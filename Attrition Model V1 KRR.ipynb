{
 "cells": [
  {
   "cell_type": "code",
   "execution_count": 1,
   "metadata": {
    "ExecuteTime": {
     "end_time": "2019-09-24T18:46:14.775582Z",
     "start_time": "2019-09-24T18:46:14.237606Z"
    }
   },
   "outputs": [],
   "source": [
    "import numpy as np\n",
    "import pandas as pd\n",
    "import pickle\n",
    "from scipy import sparse\n",
    "from pprint import pprint\n",
    "\n",
    "from sklearn.model_selection import GridSearchCV,train_test_split\n",
    "from sklearn.pipeline import Pipeline, FeatureUnion\n",
    "from sklearn.preprocessing import FunctionTransformer, OneHotEncoder, StandardScaler\n",
    "from sklearn.metrics import r2_score, mean_squared_error, classification_report,confusion_matrix, roc_curve, auc\n",
    "from sklearn.kernel_ridge import KernelRidge\n",
    "from sklearn.decomposition import PCA,TruncatedSVD\n",
    "from sklearn.base import BaseEstimator, TransformerMixin, ClassifierMixin\n",
    "\n",
    "import ModelEvaluation as me\n",
    "from datetime import datetime,timedelta\n",
    "\n",
    "import os\n",
    "from db_utils.pg_connect import pg_connect\n",
    "\n",
    "from IPython.display import display, HTML, Image\n",
    "from subprocess import call\n",
    "import gc\n",
    "import matplotlib.pyplot as plt\n",
    "\n",
    "pd.set_option('display.max_rows', 500)\n",
    "pd.set_option('display.max_columns', 500)\n",
    "pd.set_option('display.width', 1000)\n",
    "pd.options.display.max_colwidth = 100"
   ]
  },
  {
   "cell_type": "code",
   "execution_count": 2,
   "metadata": {
    "ExecuteTime": {
     "end_time": "2019-09-24T18:46:15.435000Z",
     "start_time": "2019-09-24T18:46:15.429994Z"
    }
   },
   "outputs": [],
   "source": [
    "config_file = os.path.join(os.environ['HOME'], '.databases.conf')\n",
    "dbu = pg_connect(\"whatif\", config_file)"
   ]
  },
  {
   "cell_type": "code",
   "execution_count": 3,
   "metadata": {
    "ExecuteTime": {
     "end_time": "2019-09-24T18:46:16.624029Z",
     "start_time": "2019-09-24T18:46:16.008984Z"
    }
   },
   "outputs": [
    {
     "data": {
      "text/html": [
       "<div>\n",
       "<style scoped>\n",
       "    .dataframe tbody tr th:only-of-type {\n",
       "        vertical-align: middle;\n",
       "    }\n",
       "\n",
       "    .dataframe tbody tr th {\n",
       "        vertical-align: top;\n",
       "    }\n",
       "\n",
       "    .dataframe thead th {\n",
       "        text-align: right;\n",
       "    }\n",
       "</style>\n",
       "<table border=\"1\" class=\"dataframe\">\n",
       "  <thead>\n",
       "    <tr style=\"text-align: right;\">\n",
       "      <th></th>\n",
       "      <th>schemaname</th>\n",
       "      <th>tablename</th>\n",
       "      <th>tableowner</th>\n",
       "      <th>tablespace</th>\n",
       "      <th>hasindexes</th>\n",
       "      <th>hasrules</th>\n",
       "      <th>hastriggers</th>\n",
       "    </tr>\n",
       "  </thead>\n",
       "  <tbody>\n",
       "    <tr>\n",
       "      <th>0</th>\n",
       "      <td>pg_catalog</td>\n",
       "      <td>systable_topology</td>\n",
       "      <td>rdsdb</td>\n",
       "      <td>None</td>\n",
       "      <td>False</td>\n",
       "      <td>False</td>\n",
       "      <td>False</td>\n",
       "    </tr>\n",
       "    <tr>\n",
       "      <th>1</th>\n",
       "      <td>pg_catalog</td>\n",
       "      <td>systable_schema</td>\n",
       "      <td>rdsdb</td>\n",
       "      <td>None</td>\n",
       "      <td>False</td>\n",
       "      <td>False</td>\n",
       "      <td>False</td>\n",
       "    </tr>\n",
       "  </tbody>\n",
       "</table>\n",
       "</div>"
      ],
      "text/plain": [
       "   schemaname          tablename tableowner tablespace  hasindexes  hasrules  hastriggers\n",
       "0  pg_catalog  systable_topology      rdsdb       None       False     False        False\n",
       "1  pg_catalog    systable_schema      rdsdb       None       False     False        False"
      ]
     },
     "execution_count": 3,
     "metadata": {},
     "output_type": "execute_result"
    }
   ],
   "source": [
    "# TEST THAT EVERYTHING IS WORKING\n",
    "df = dbu.get_df_from_query(\"select * from pg_tables limit 5\")\n",
    "df.head(2)"
   ]
  },
  {
   "cell_type": "code",
   "execution_count": 4,
   "metadata": {
    "ExecuteTime": {
     "end_time": "2019-09-24T18:46:17.177260Z",
     "start_time": "2019-09-24T18:46:17.170731Z"
    }
   },
   "outputs": [],
   "source": [
    "# SET END DATE\n",
    "date_data_accessed = (datetime.now() - timedelta(1)).strftime('%Y-%m-%d')\n",
    "# TIME WINDOW SET IN DAYS, TELLS US HOW MANY DAYS TO GO BACK\n",
    "lengthtimewindow = -30"
   ]
  },
  {
   "cell_type": "markdown",
   "metadata": {},
   "source": [
    "# Attrition Data"
   ]
  },
  {
   "cell_type": "code",
   "execution_count": 5,
   "metadata": {
    "ExecuteTime": {
     "end_time": "2019-09-24T18:56:40.355143Z",
     "start_time": "2019-09-24T18:46:19.136586Z"
    }
   },
   "outputs": [
    {
     "data": {
      "text/plain": [
       "(14235, 18)"
      ]
     },
     "execution_count": 5,
     "metadata": {},
     "output_type": "execute_result"
    }
   ],
   "source": [
    "sql = \"\"\"\n",
    "WITH offers_seen AS\n",
    "(\n",
    "  SELECT imp.user_session_id,\n",
    "         imp.num_offers_seen\n",
    "  FROM tracking.user_impression imp\n",
    "    INNER JOIN tracking.user_impression_linkout_revenue r ON imp.id = r.user_impression_id\n",
    "  WHERE imp.created_at::DATE BETWEEN dateadd(days,{0},'{1}') AND '{1}'\n",
    "),\n",
    "session_max_offers_seen AS\n",
    "(\n",
    "  SELECT user_session_id AS s_id,\n",
    "         MAX(num_offers_seen) AS offers\n",
    "  FROM tracking.user_impression\n",
    "  WHERE created_at::DATE BETWEEN dateadd(days,{0},'{1}') AND '{1}'\n",
    "  GROUP BY 1\n",
    "),\n",
    "linkouts_url AS\n",
    "(\n",
    "  SELECT o.name,\n",
    "         i.offer_id,\n",
    "         MAX(CASE WHEN CASE WHEN an_l.url IS NULL THEN o.offer_url ELSE an_l.url END IS NULL THEN o.linkout_url ELSE an_l.url END) AS url\n",
    "  FROM tracking.user_impression i\n",
    "    INNER JOIN offers o ON o.id = i.offer_id\n",
    "    LEFT JOIN tracking.user_offer_question_answer qa ON i.id = qa.user_impression_id\n",
    "    LEFT JOIN offer_question_answer an ON qa.offer_question_answer_id = an.id\n",
    "    LEFT JOIN offer_question_answer_linkout an_l ON an_l.offer_question_answer_id = an.id\n",
    "  WHERE i.created_at::DATE BETWEEN dateadd(days,{0},'{1}') AND '{1}'\n",
    "  GROUP BY 1,\n",
    "           2\n",
    "),\n",
    "linkouts_identify AS\n",
    "(\n",
    "  SELECT offer_id AS id,\n",
    "         CASE\n",
    "           WHEN url IS NOT NULL THEN 1\n",
    "           ELSE 0\n",
    "         END AS is_linkout\n",
    "  FROM linkouts_url\n",
    "),\n",
    "initial_dataset AS\n",
    "(\n",
    "  SELECT t1.id AS imp_id,\n",
    "         t1.user_session_id,\n",
    "         t1.offer_id,\n",
    "         t3.name AS offer_name,\n",
    "         t2.name AS offer_type,\n",
    "         t1.sequence_id,\n",
    "         t4.name AS sequence_name,\n",
    "         t1.order_by,\n",
    "         CASE\n",
    "           WHEN t6.offers > t1.num_offers_seen THEN t1.id\n",
    "           WHEN t7.num_offers_seen IS NULL THEN t1.id\n",
    "           ELSE NULL\n",
    "         END AS true_imp_id,\n",
    "         RANK() OVER (PARTITION BY t1.user_session_id,t1.sequence_id ORDER BY t1.created_at ASC) AS display_order,\n",
    "         DENSE_RANK() OVER (PARTITION BY t1.sequence_id ORDER BY t1.order_by::INT ASC) AS ranked_order_by,\n",
    "         t5.is_linkout,\n",
    "         continued,\n",
    "         answer,\n",
    "         tcpa_opt_in_time,\n",
    "         clicked,\n",
    "         calculated_revenue\n",
    "  FROM tracking.user_impression AS t1\n",
    "    LEFT JOIN public.offer_types AS t2 ON t1.offer_type_id = t2.id\n",
    "    LEFT JOIN public.offers AS t3 ON t1.offer_id = t3.id\n",
    "    LEFT JOIN public.sequences AS t4 ON t1.sequence_id = t4.id\n",
    "    LEFT JOIN linkouts_identify AS t5 ON t1.offer_id = t5.id\n",
    "    INNER JOIN session_max_offers_seen AS t6 ON t1.user_session_id = t6.s_id\n",
    "    LEFT JOIN offers_seen AS t7\n",
    "           ON t1.user_session_id = t7.user_session_id\n",
    "          AND t1.num_offers_seen - 1 = t7.num_offers_seen\n",
    "    LEFT JOIN tracking.user_offer_question_answer t8 ON t1.id = t8.user_impression_id\n",
    "    LEFT JOIN offer_question_answer t9 ON t8.offer_question_answer_id = t9.id\n",
    "    INNER JOIN tracking.user_session t10 ON t1.user_session_id = t10.id\n",
    "  WHERE t1.created_at::DATE BETWEEN dateadd(days,{0},'{1}') AND '{1}'\n",
    "),\n",
    "final_set AS\n",
    "(\n",
    "  SELECT sequence_id,\n",
    "         offer_id,\n",
    "         offer_name,\n",
    "         offer_type,\n",
    "         --display_order,\n",
    "         order_by,\n",
    "         ranked_order_by,\n",
    "         is_linkout,\n",
    "         AVG(display_order) AS avg_display_order,\n",
    "         COUNT(DISTINCT true_imp_id) AS true_impressions,\n",
    "         COUNT(DISTINCT user_session_id) AS impressions,\n",
    "         CASE\n",
    "           WHEN offer_type = 'Question' THEN COUNT(DISTINCT\n",
    "             CASE\n",
    "               WHEN answer IN ('Yes','Show Me Now!','Get my samples now!') THEN imp_id\n",
    "               ELSE NULL\n",
    "             END )\n",
    "           ELSE COUNT(DISTINCT\n",
    "             CASE\n",
    "               WHEN clicked = 'true' THEN user_session_id\n",
    "               ELSE NULL\n",
    "             END )\n",
    "         END \n",
    "         +\n",
    "         (CASE\n",
    "            WHEN offer_type NOT IN ('Question','Banner') AND offer_name LIKE '%onfirm%' \n",
    "            THEN COUNT(DISTINCT CASE WHEN tcpa_opt_in_time IS NOT NULL THEN user_session_id ELSE NULL END)\n",
    "            ELSE 0\n",
    "          END) AS clicks,\n",
    "         clicks::FLOAT/(CASE WHEN true_impressions = 0 THEN 1 ELSE true_impressions END) as true_ctr,\n",
    "          1000 *(COALESCE(SUM(calculated_revenue),0)) /(COUNT(DISTINCT imp_id))::FLOAT AS cpm,\n",
    "          1 -((COUNT(DISTINCT CASE WHEN continued = 'true' THEN user_session_id ELSE NULL END))/(COUNT(DISTINCT user_session_id))::FLOAT) AS attrition\n",
    "  FROM initial_dataset\n",
    "  GROUP BY 1,2,3,4,5,6,7\n",
    "),\n",
    "averages as (\n",
    "  SELECT offer_id,\n",
    "         offer_name,\n",
    "         offer_type,\n",
    "         order_by,\n",
    "         ranked_order_by,\n",
    "         is_linkout,\n",
    "         AVG(clicks) as avg_clicks,\n",
    "         AVG(true_ctr) as avg_true_ctr,\n",
    "         AVG(cpm) as avg_cpm,\n",
    "         AVG(attrition) as avg_attrition\n",
    "  FROM final_set\n",
    "  GROUP BY 1,2,3,4,5,6\n",
    ")\n",
    "SELECT *\n",
    "FROM final_set\n",
    "JOIN averages \n",
    "USING (offer_id,offer_name,offer_type,order_by,ranked_order_by,is_linkout);\n",
    "\"\"\".format(lengthtimewindow,date_data_accessed)\n",
    "attrition_data = dbu.get_df_from_query(sql)\n",
    "attrition_data.shape"
   ]
  },
  {
   "cell_type": "markdown",
   "metadata": {},
   "source": [
    "# Classes"
   ]
  },
  {
   "cell_type": "code",
   "execution_count": 17,
   "metadata": {
    "ExecuteTime": {
     "end_time": "2019-09-24T18:58:44.069674Z",
     "start_time": "2019-09-24T18:58:44.061220Z"
    }
   },
   "outputs": [],
   "source": [
    "class ColumnSelector(TransformerMixin):\n",
    "    def __init__(self,cols):\n",
    "        self.cols = cols\n",
    "\n",
    "    def transform(self, X, y=None):\n",
    "        return X[self.cols]\n",
    "\n",
    "    def fit(self, X, y=None):\n",
    "        return self\n",
    "\n",
    "class CategoricalColumnSelector(TransformerMixin):\n",
    "    def __init__(self,feats):\n",
    "        self.feats = feats\n",
    "\n",
    "    def transform(self, X, y=None):\n",
    "        regstr = ''\n",
    "        length = len(self.feats)\n",
    "        for i,feat in enumerate(self.feats):\n",
    "            regstr = regstr+'^'+feat+'_+'\n",
    "\n",
    "            if i < length-1:\n",
    "                regstr = regstr+'|'\n",
    "        return X.filter(regex=regstr)\n",
    "\n",
    "    def fit(self, X, y=None):\n",
    "        return self\n",
    "\n",
    "class ToSparse(TransformerMixin):\n",
    "    def __init__(self):\n",
    "        pass\n",
    "\n",
    "    def transform(self, X, y=None):\n",
    "        return sparse.csr_matrix(X)\n",
    "\n",
    "    def fit(self, X, y=None):\n",
    "        return self\n"
   ]
  },
  {
   "cell_type": "code",
   "execution_count": 18,
   "metadata": {
    "ExecuteTime": {
     "end_time": "2019-09-24T18:58:44.589554Z",
     "start_time": "2019-09-24T18:58:44.583100Z"
    }
   },
   "outputs": [],
   "source": [
    "def build_dummies(dataframe,feats):\n",
    "    df = pd.DataFrame()\n",
    "    for feat in feats:\n",
    "        df = pd.concat([df,pd.get_dummies(dataframe[feat],prefix=feat)],axis=1,sort=False)\n",
    "    df = pd.concat([dataframe,df],axis=1,sort=False)\n",
    "    df.drop(feats,axis=1,inplace=True)\n",
    "    return df\n",
    "\n",
    "def get_cat_features(DF):\n",
    "    offer_name = DF.filter(regex='^offer_name_+').columns.tolist()\n",
    "    offer_type = DF.filter(regex='^offer_type_+').columns.tolist()\n",
    "    cat_feats = offer_name + offer_type\n",
    "    return cat_feats\n",
    "\n",
    "def best_params(grid):\n",
    "    estimator = grid.best_estimator_\n",
    "    svd = grid.best_estimator_.steps[1][1]\n",
    "    classifier = grid.best_estimator_.steps[2][1]\n",
    "    params = grid.best_params_\n",
    "    score = grid.best_score_\n",
    "    return estimator,svd,classifier,params,score"
   ]
  },
  {
   "cell_type": "code",
   "execution_count": 19,
   "metadata": {
    "ExecuteTime": {
     "end_time": "2019-09-24T18:58:45.421215Z",
     "start_time": "2019-09-24T18:58:45.410472Z"
    }
   },
   "outputs": [
    {
     "data": {
      "text/html": [
       "<div>\n",
       "<style scoped>\n",
       "    .dataframe tbody tr th:only-of-type {\n",
       "        vertical-align: middle;\n",
       "    }\n",
       "\n",
       "    .dataframe tbody tr th {\n",
       "        vertical-align: top;\n",
       "    }\n",
       "\n",
       "    .dataframe thead th {\n",
       "        text-align: right;\n",
       "    }\n",
       "</style>\n",
       "<table border=\"1\" class=\"dataframe\">\n",
       "  <thead>\n",
       "    <tr style=\"text-align: right;\">\n",
       "      <th></th>\n",
       "      <th>offer_id</th>\n",
       "      <th>offer_name</th>\n",
       "      <th>offer_type</th>\n",
       "      <th>order_by</th>\n",
       "      <th>ranked_order_by</th>\n",
       "      <th>is_linkout</th>\n",
       "      <th>sequence_id</th>\n",
       "      <th>avg_display_order</th>\n",
       "      <th>true_impressions</th>\n",
       "      <th>impressions</th>\n",
       "      <th>clicks</th>\n",
       "      <th>true_ctr</th>\n",
       "      <th>cpm</th>\n",
       "      <th>attrition</th>\n",
       "      <th>avg_clicks</th>\n",
       "      <th>avg_true_ctr</th>\n",
       "      <th>avg_cpm</th>\n",
       "      <th>avg_attrition</th>\n",
       "    </tr>\n",
       "  </thead>\n",
       "  <tbody>\n",
       "    <tr>\n",
       "      <th>0</th>\n",
       "      <td>387</td>\n",
       "      <td>Summer Samples - DYN</td>\n",
       "      <td>Banner</td>\n",
       "      <td>27</td>\n",
       "      <td>25</td>\n",
       "      <td>0</td>\n",
       "      <td>4052</td>\n",
       "      <td>8</td>\n",
       "      <td>3054</td>\n",
       "      <td>3108</td>\n",
       "      <td>1954</td>\n",
       "      <td>0.639817</td>\n",
       "      <td>285.971686</td>\n",
       "      <td>0.140605</td>\n",
       "      <td>1954</td>\n",
       "      <td>0.639817</td>\n",
       "      <td>285.971686</td>\n",
       "      <td>0.140605</td>\n",
       "    </tr>\n",
       "    <tr>\n",
       "      <th>1</th>\n",
       "      <td>2380</td>\n",
       "      <td>Summer Samples Prequal PC</td>\n",
       "      <td>Question</td>\n",
       "      <td>60</td>\n",
       "      <td>47</td>\n",
       "      <td>0</td>\n",
       "      <td>4067</td>\n",
       "      <td>14</td>\n",
       "      <td>2041</td>\n",
       "      <td>2176</td>\n",
       "      <td>567</td>\n",
       "      <td>0.277805</td>\n",
       "      <td>4.103860</td>\n",
       "      <td>0.102941</td>\n",
       "      <td>709</td>\n",
       "      <td>0.275222</td>\n",
       "      <td>2.051930</td>\n",
       "      <td>0.094543</td>\n",
       "    </tr>\n",
       "    <tr>\n",
       "      <th>2</th>\n",
       "      <td>1803</td>\n",
       "      <td>Final Expense - Crisp Required</td>\n",
       "      <td>Question</td>\n",
       "      <td>34</td>\n",
       "      <td>29</td>\n",
       "      <td>0</td>\n",
       "      <td>3994</td>\n",
       "      <td>10</td>\n",
       "      <td>1955</td>\n",
       "      <td>1959</td>\n",
       "      <td>141</td>\n",
       "      <td>0.072123</td>\n",
       "      <td>35.936702</td>\n",
       "      <td>0.022460</td>\n",
       "      <td>91</td>\n",
       "      <td>0.068025</td>\n",
       "      <td>33.408412</td>\n",
       "      <td>0.023370</td>\n",
       "    </tr>\n",
       "    <tr>\n",
       "      <th>3</th>\n",
       "      <td>1318</td>\n",
       "      <td>NetSpend - MLB</td>\n",
       "      <td>Banner</td>\n",
       "      <td>66</td>\n",
       "      <td>52</td>\n",
       "      <td>0</td>\n",
       "      <td>4049</td>\n",
       "      <td>21</td>\n",
       "      <td>3</td>\n",
       "      <td>3</td>\n",
       "      <td>2</td>\n",
       "      <td>0.666667</td>\n",
       "      <td>0.000000</td>\n",
       "      <td>0.000000</td>\n",
       "      <td>2</td>\n",
       "      <td>0.666667</td>\n",
       "      <td>0.000000</td>\n",
       "      <td>0.000000</td>\n",
       "    </tr>\n",
       "    <tr>\n",
       "      <th>4</th>\n",
       "      <td>2039</td>\n",
       "      <td>GoldRock Auto Insurance - Drips required</td>\n",
       "      <td>Question</td>\n",
       "      <td>51</td>\n",
       "      <td>41</td>\n",
       "      <td>0</td>\n",
       "      <td>4033</td>\n",
       "      <td>12</td>\n",
       "      <td>194</td>\n",
       "      <td>194</td>\n",
       "      <td>8</td>\n",
       "      <td>0.041237</td>\n",
       "      <td>11.340206</td>\n",
       "      <td>0.025773</td>\n",
       "      <td>8</td>\n",
       "      <td>0.041237</td>\n",
       "      <td>11.340206</td>\n",
       "      <td>0.025773</td>\n",
       "    </tr>\n",
       "  </tbody>\n",
       "</table>\n",
       "</div>"
      ],
      "text/plain": [
       "   offer_id                                offer_name offer_type  order_by  ranked_order_by  is_linkout  sequence_id  avg_display_order  true_impressions  impressions  clicks  true_ctr         cpm  attrition  avg_clicks  avg_true_ctr     avg_cpm  avg_attrition\n",
       "0       387                      Summer Samples - DYN     Banner        27               25           0         4052                  8              3054         3108    1954  0.639817  285.971686   0.140605        1954      0.639817  285.971686       0.140605\n",
       "1      2380                 Summer Samples Prequal PC   Question        60               47           0         4067                 14              2041         2176     567  0.277805    4.103860   0.102941         709      0.275222    2.051930       0.094543\n",
       "2      1803            Final Expense - Crisp Required   Question        34               29           0         3994                 10              1955         1959     141  0.072123   35.936702   0.022460          91      0.068025   33.408412       0.023370\n",
       "3      1318                            NetSpend - MLB     Banner        66               52           0         4049                 21                 3            3       2  0.666667    0.000000   0.000000           2      0.666667    0.000000       0.000000\n",
       "4      2039  GoldRock Auto Insurance - Drips required   Question        51               41           0         4033                 12               194          194       8  0.041237   11.340206   0.025773           8      0.041237   11.340206       0.025773"
      ]
     },
     "execution_count": 19,
     "metadata": {},
     "output_type": "execute_result"
    }
   ],
   "source": [
    "attrition_data.head()"
   ]
  },
  {
   "cell_type": "code",
   "execution_count": 20,
   "metadata": {
    "ExecuteTime": {
     "end_time": "2019-09-24T18:58:46.358758Z",
     "start_time": "2019-09-24T18:58:46.354599Z"
    }
   },
   "outputs": [],
   "source": [
    "categorical_feats = [#'offer_name',\n",
    "             'offer_type']\n",
    "numerical_feats = [#'display_order',\n",
    "           #'order_by',\n",
    "           'ranked_order_by',\n",
    "           'is_linkout', \n",
    "           'impressions',\n",
    "           'true_impressions',\n",
    "           'avg_display_order',\n",
    "           'avg_clicks',\n",
    "           'avg_true_ctr',\n",
    "           'avg_cpm']\n",
    "           #'avg_attrition']\n",
    "           #'clicks',\n",
    "           #'true_ctr',\n",
    "           #'cpm']\n",
    "features = categorical_feats + numerical_feats\n",
    "#X = build_dummies(attrition_data[features],cat_feats)\n",
    "X = attrition_data[features]\n",
    "y = attrition_data['attrition']"
   ]
  },
  {
   "cell_type": "code",
   "execution_count": 21,
   "metadata": {
    "ExecuteTime": {
     "end_time": "2019-09-24T18:58:46.879518Z",
     "start_time": "2019-09-24T18:58:46.865573Z"
    }
   },
   "outputs": [],
   "source": [
    "X_train,X_test,y_train,y_test = train_test_split(X,y,test_size=.2,random_state=42)"
   ]
  },
  {
   "cell_type": "code",
   "execution_count": 22,
   "metadata": {
    "ExecuteTime": {
     "end_time": "2019-09-24T18:58:47.421461Z",
     "start_time": "2019-09-24T18:58:47.403926Z"
    }
   },
   "outputs": [
    {
     "data": {
      "text/html": [
       "<div>\n",
       "<style scoped>\n",
       "    .dataframe tbody tr th:only-of-type {\n",
       "        vertical-align: middle;\n",
       "    }\n",
       "\n",
       "    .dataframe tbody tr th {\n",
       "        vertical-align: top;\n",
       "    }\n",
       "\n",
       "    .dataframe thead th {\n",
       "        text-align: right;\n",
       "    }\n",
       "</style>\n",
       "<table border=\"1\" class=\"dataframe\">\n",
       "  <thead>\n",
       "    <tr style=\"text-align: right;\">\n",
       "      <th></th>\n",
       "      <th>offer_type</th>\n",
       "      <th>ranked_order_by</th>\n",
       "      <th>is_linkout</th>\n",
       "      <th>impressions</th>\n",
       "      <th>true_impressions</th>\n",
       "      <th>avg_display_order</th>\n",
       "      <th>avg_clicks</th>\n",
       "      <th>avg_true_ctr</th>\n",
       "      <th>avg_cpm</th>\n",
       "    </tr>\n",
       "  </thead>\n",
       "  <tbody>\n",
       "    <tr>\n",
       "      <th>4073</th>\n",
       "      <td>Question</td>\n",
       "      <td>53</td>\n",
       "      <td>0</td>\n",
       "      <td>26</td>\n",
       "      <td>26</td>\n",
       "      <td>10</td>\n",
       "      <td>0</td>\n",
       "      <td>0.000000</td>\n",
       "      <td>0.000000</td>\n",
       "    </tr>\n",
       "    <tr>\n",
       "      <th>73</th>\n",
       "      <td>Question</td>\n",
       "      <td>98</td>\n",
       "      <td>0</td>\n",
       "      <td>6433</td>\n",
       "      <td>6433</td>\n",
       "      <td>24</td>\n",
       "      <td>1005</td>\n",
       "      <td>0.156226</td>\n",
       "      <td>14.316804</td>\n",
       "    </tr>\n",
       "    <tr>\n",
       "      <th>2984</th>\n",
       "      <td>Question</td>\n",
       "      <td>44</td>\n",
       "      <td>0</td>\n",
       "      <td>63</td>\n",
       "      <td>63</td>\n",
       "      <td>14</td>\n",
       "      <td>7</td>\n",
       "      <td>0.116667</td>\n",
       "      <td>70.341270</td>\n",
       "    </tr>\n",
       "    <tr>\n",
       "      <th>3651</th>\n",
       "      <td>Banner</td>\n",
       "      <td>20</td>\n",
       "      <td>0</td>\n",
       "      <td>51</td>\n",
       "      <td>51</td>\n",
       "      <td>7</td>\n",
       "      <td>37</td>\n",
       "      <td>0.725490</td>\n",
       "      <td>306.862745</td>\n",
       "    </tr>\n",
       "    <tr>\n",
       "      <th>10656</th>\n",
       "      <td>Question</td>\n",
       "      <td>53</td>\n",
       "      <td>0</td>\n",
       "      <td>50</td>\n",
       "      <td>50</td>\n",
       "      <td>16</td>\n",
       "      <td>4</td>\n",
       "      <td>0.080000</td>\n",
       "      <td>4.800000</td>\n",
       "    </tr>\n",
       "  </tbody>\n",
       "</table>\n",
       "</div>"
      ],
      "text/plain": [
       "      offer_type  ranked_order_by  is_linkout  impressions  true_impressions  avg_display_order  avg_clicks  avg_true_ctr     avg_cpm\n",
       "4073    Question               53           0           26                26                 10           0      0.000000    0.000000\n",
       "73      Question               98           0         6433              6433                 24        1005      0.156226   14.316804\n",
       "2984    Question               44           0           63                63                 14           7      0.116667   70.341270\n",
       "3651      Banner               20           0           51                51                  7          37      0.725490  306.862745\n",
       "10656   Question               53           0           50                50                 16           4      0.080000    4.800000"
      ]
     },
     "execution_count": 22,
     "metadata": {},
     "output_type": "execute_result"
    }
   ],
   "source": [
    "X_train.head()"
   ]
  },
  {
   "cell_type": "markdown",
   "metadata": {
    "heading_collapsed": true
   },
   "source": [
    "# SVD"
   ]
  },
  {
   "cell_type": "code",
   "execution_count": 23,
   "metadata": {
    "ExecuteTime": {
     "end_time": "2019-09-24T18:58:50.406728Z",
     "start_time": "2019-09-24T18:58:50.340749Z"
    },
    "hidden": true
   },
   "outputs": [
    {
     "data": {
      "text/plain": [
       "1"
      ]
     },
     "execution_count": 23,
     "metadata": {},
     "output_type": "execute_result"
    }
   ],
   "source": [
    "# Create a function\n",
    "def select_n_components(var_ratio, goal_var: float) -> int:\n",
    "    # Set initial variance explained so far\n",
    "    total_variance = 0.0\n",
    "    \n",
    "    # Set initial number of features\n",
    "    n_components = 0\n",
    "    \n",
    "    # For the explained variance of each feature:\n",
    "    for explained_variance in var_ratio:\n",
    "        \n",
    "        # Add the explained variance to the total\n",
    "        total_variance += explained_variance\n",
    "        \n",
    "        # Add one to the number of components\n",
    "        n_components += 1\n",
    "        \n",
    "        # If we reach our goal level of explained variance\n",
    "        if total_variance >= goal_var:\n",
    "            # End the loop\n",
    "            break\n",
    "            \n",
    "    # Return the number of components\n",
    "    return n_components\n",
    "\n",
    "svd_pipe = Pipeline([\n",
    "    ('features',FeatureUnion([\n",
    "        ('numeric_feats',ColumnSelector(cols=numerical_feats)),\n",
    "        ('categorical_feats',CategoricalColumnSelector(feats=categorical_feats))\n",
    "    ])),\n",
    "    ('sparse',ToSparse()),\n",
    "    ('scale',StandardScaler(with_mean=False)),\n",
    "    ('svd',TruncatedSVD(random_state=42))\n",
    "])\n",
    "svd_pipe.fit(X_train)\n",
    "select_n_components(svd_pipe.named_steps['svd'].explained_variance_,.95)"
   ]
  },
  {
   "cell_type": "markdown",
   "metadata": {},
   "source": [
    "# pipline"
   ]
  },
  {
   "cell_type": "code",
   "execution_count": 24,
   "metadata": {
    "ExecuteTime": {
     "end_time": "2019-09-24T18:58:55.251376Z",
     "start_time": "2019-09-24T18:58:55.244360Z"
    }
   },
   "outputs": [],
   "source": [
    "n_components = [1,2,3]\n",
    "param_grid = [#{'svd__n_components': n_components,\n",
    "               #'krr__alpha':[1e0, 0.1, 1e-2, 1e-3],\n",
    "               #'krr__solver':['auto','lsqr']}\n",
    "               {'svd__n_components': n_components,\n",
    "                'krr__alpha':[1e0, 0.1, 1e-2, 1e-3],\n",
    "                'krr__kernel':['rbf'],\n",
    "                'krr__gamma': np.logspace(-2, 2, 5)}\n",
    "        ]\n",
    "pipe = Pipeline([\n",
    "    ('features',FeatureUnion([\n",
    "        ('numeric_feats',ColumnSelector(cols=numerical_feats)),\n",
    "        ('categorical_feats',Pipeline([\n",
    "            ('categories',ColumnSelector(cols=categorical_feats)),\n",
    "            ('encoder',OneHotEncoder(handle_unknown='ignore')),\n",
    "        ]))\n",
    "    ])),\n",
    "    ('sparse',ToSparse()),\n",
    "    ('scale',StandardScaler(with_mean=False)),\n",
    "    ('svd',TruncatedSVD(random_state=42)),\n",
    "    ('krr',KernelRidge())\n",
    "])\n"
   ]
  },
  {
   "cell_type": "code",
   "execution_count": 25,
   "metadata": {
    "ExecuteTime": {
     "end_time": "2019-09-24T19:23:07.463233Z",
     "start_time": "2019-09-24T18:58:57.911516Z"
    }
   },
   "outputs": [
    {
     "name": "stdout",
     "output_type": "stream",
     "text": [
      "Fitting 5 folds for each of 60 candidates, totalling 300 fits\n"
     ]
    },
    {
     "name": "stderr",
     "output_type": "stream",
     "text": [
      "[Parallel(n_jobs=3)]: Using backend LokyBackend with 3 concurrent workers.\n",
      "[Parallel(n_jobs=3)]: Done  12 tasks      | elapsed:   51.7s\n",
      "[Parallel(n_jobs=3)]: Done  66 tasks      | elapsed:  4.9min\n",
      "[Parallel(n_jobs=3)]: Done 156 tasks      | elapsed: 12.2min\n",
      "[Parallel(n_jobs=3)]: Done 282 tasks      | elapsed: 22.3min\n",
      "[Parallel(n_jobs=3)]: Done 300 out of 300 | elapsed: 24.0min finished\n"
     ]
    },
    {
     "data": {
      "text/plain": [
       "GridSearchCV(cv=5, error_score='raise-deprecating',\n",
       "       estimator=Pipeline(memory=None,\n",
       "     steps=[('features', FeatureUnion(n_jobs=None,\n",
       "       transformer_list=[('numeric_feats', <__main__.ColumnSelector object at 0x7ff3de79f668>), ('categorical_feats', Pipeline(memory=None,\n",
       "     steps=[('categories', <__main__.ColumnSelector object at 0x7ff3de79f6a0>), ('encoder', OneHotEncoder(categori...r', KernelRidge(alpha=1, coef0=1, degree=3, gamma=None, kernel='linear',\n",
       "      kernel_params=None))]),\n",
       "       fit_params=None, iid='warn', n_jobs=3,\n",
       "       param_grid=[{'svd__n_components': [1, 2, 3], 'krr__alpha': [1.0, 0.1, 0.01, 0.001], 'krr__kernel': ['rbf'], 'krr__gamma': array([1.e-02, 1.e-01, 1.e+00, 1.e+01, 1.e+02])}],\n",
       "       pre_dispatch='2*n_jobs', refit=True, return_train_score=True,\n",
       "       scoring='explained_variance', verbose=5)"
      ]
     },
     "execution_count": 25,
     "metadata": {},
     "output_type": "execute_result"
    }
   ],
   "source": [
    "gs_dt = GridSearchCV(pipe,\n",
    "                    param_grid,\n",
    "                    scoring='explained_variance',\n",
    "                    return_train_score=True,\n",
    "                    cv=5,n_jobs=3,verbose=5)#,error_score='raise')\n",
    "gs_dt.fit(X_train,y_train)"
   ]
  },
  {
   "cell_type": "code",
   "execution_count": 26,
   "metadata": {
    "ExecuteTime": {
     "end_time": "2019-09-24T19:24:44.293790Z",
     "start_time": "2019-09-24T19:24:44.289051Z"
    }
   },
   "outputs": [],
   "source": [
    "estimator,svd,dtree,params,score = best_params(gs_dt)"
   ]
  },
  {
   "cell_type": "code",
   "execution_count": 27,
   "metadata": {
    "ExecuteTime": {
     "end_time": "2019-09-24T19:24:44.969465Z",
     "start_time": "2019-09-24T19:24:44.961673Z"
    }
   },
   "outputs": [
    {
     "data": {
      "text/plain": [
       "0.5697175656825987"
      ]
     },
     "execution_count": 27,
     "metadata": {},
     "output_type": "execute_result"
    }
   ],
   "source": [
    "score"
   ]
  },
  {
   "cell_type": "markdown",
   "metadata": {},
   "source": [
    "# Evaluation"
   ]
  },
  {
   "cell_type": "code",
   "execution_count": 77,
   "metadata": {
    "ExecuteTime": {
     "end_time": "2019-09-24T19:42:08.983768Z",
     "start_time": "2019-09-24T19:42:08.974459Z"
    }
   },
   "outputs": [],
   "source": [
    "def RegModelEval(DF,training=False,n=100,show=False):\n",
    "    df = DF.sample(n=n)\n",
    "    y_train = df.loc[df.type == 'train'].attrition\n",
    "    y_train_pred = df.loc[df.type == 'train'].pred_att\n",
    "    y_test = df.loc[df.type == 'test'].attrition\n",
    "    y_test_pred = df.loc[df.type == 'test'].pred_att\n",
    "    print('R^2 Test: {:.5f}'.format(r2_score(y_test,y_test_pred)))\n",
    "    print('MSE Test: {:.5f}'.format(mean_squared_error(y_test,y_test_pred)))\n",
    "\n",
    "    if training:\n",
    "        print('R^2 Train: {:.5f}'.format(r2_score(y_train,y_train_pred)))\n",
    "        print('MSE Train: {:.5f}'.format(mean_squared_error(y_train,y_train_pred)))\n",
    "        plt.scatter(y_train_pred[:n],(y_train_pred[:n]-y_train[:n]),c='blue',label='Training_data',marker='o')\n",
    "\n",
    "    if show:\n",
    "        plt.rcParams['figure.figsize'] = (8, 8)\n",
    "        plt.scatter(y_test_pred[:n],(y_test_pred[:n]-y_test[:n]),c='lightgreen',marker='s',label='Test_data')\n",
    "        plt.xlabel('Predicted Values')\n",
    "        plt.ylabel('Residuals')\n",
    "        plt.legend(loc='upper left')\n",
    "        plt.hlines(y=0,xmin=-1,xmax=1,color='red',lw=2)\n",
    "        plt.xlim([-1,1])\n",
    "        plt.show()"
   ]
  },
  {
   "cell_type": "code",
   "execution_count": 67,
   "metadata": {
    "ExecuteTime": {
     "end_time": "2019-09-24T19:37:45.593444Z",
     "start_time": "2019-09-24T19:37:45.090970Z"
    }
   },
   "outputs": [],
   "source": [
    "pred = estimator.predict(X_test)\n",
    "pred_df = pd.DataFrame(list(zip(X_test.index,pred)),columns=['id','pred_att'])\n",
    "eval_df_test = pred_df.merge(attrition_data[features+['attrition']],right_index=True,left_on='id')\n",
    "eval_df_test['type'] = 'test'"
   ]
  },
  {
   "cell_type": "code",
   "execution_count": 68,
   "metadata": {
    "ExecuteTime": {
     "end_time": "2019-09-24T19:38:11.564533Z",
     "start_time": "2019-09-24T19:38:09.754951Z"
    }
   },
   "outputs": [],
   "source": [
    "pred = estimator.predict(X_train)\n",
    "pred_df = pd.DataFrame(list(zip(X_train.index,pred)),columns=['id','pred_att'])\n",
    "eval_df_train = pred_df.merge(attrition_data[features+['attrition']],right_index=True,left_on='id')\n",
    "eval_df_train['type'] = 'train'"
   ]
  },
  {
   "cell_type": "code",
   "execution_count": 69,
   "metadata": {
    "ExecuteTime": {
     "end_time": "2019-09-24T19:38:12.165807Z",
     "start_time": "2019-09-24T19:38:12.141150Z"
    }
   },
   "outputs": [],
   "source": [
    "eval_df = pd.concat([eval_df_test,eval_df_train])"
   ]
  },
  {
   "cell_type": "code",
   "execution_count": 78,
   "metadata": {
    "ExecuteTime": {
     "end_time": "2019-09-24T19:42:12.264031Z",
     "start_time": "2019-09-24T19:42:12.075411Z"
    }
   },
   "outputs": [
    {
     "name": "stdout",
     "output_type": "stream",
     "text": [
      "R^2 Test: 0.68068\n",
      "MSE Test: 0.02031\n",
      "R^2 Train: 0.71047\n",
      "MSE Train: 0.01754\n"
     ]
    },
    {
     "data": {
      "image/png": "[encoded data removed]",
      "text/plain": [
       "<Figure size 576x576 with 1 Axes>"
      ]
     },
     "metadata": {
      "needs_background": "light"
     },
     "output_type": "display_data"
    }
   ],
   "source": [
    "RegModelEval(eval_df,n=100,show=True,training=True)"
   ]
  },
  {
   "cell_type": "code",
   "execution_count": null,
   "metadata": {},
   "outputs": [],
   "source": []
  }
 ],
 "metadata": {
  "kernelspec": {
   "display_name": "wih-kernel",
   "language": "python",
   "name": "wih-kernel"
  },
  "language_info": {
   "codemirror_mode": {
    "name": "ipython",
    "version": 3
   },
   "file_extension": ".py",
   "mimetype": "text/x-python",
   "name": "python",
   "nbconvert_exporter": "python",
   "pygments_lexer": "ipython3",
   "version": "3.7.3"
  },
  "latex_envs": {
   "LaTeX_envs_menu_present": true,
   "autoclose": false,
   "autocomplete": true,
   "bibliofile": "biblio.bib",
   "cite_by": "apalike",
   "current_citInitial": 1,
   "eqLabelWithNumbers": true,
   "eqNumInitial": 1,
   "hotkeys": {
    "equation": "Ctrl-E",
    "itemize": "Ctrl-I"
   },
   "labels_anchors": false,
   "latex_user_defs": false,
   "report_style_numbering": false,
   "user_envs_cfg": false
  }
 },
 "nbformat": 4,
 "nbformat_minor": 2
}
